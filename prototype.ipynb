{
 "cells": [
  {
   "cell_type": "code",
   "execution_count": 2,
   "metadata": {},
   "outputs": [],
   "source": [
    "import numpy as np\n",
    "from typing import Tuple, List\n",
    "import logging"
   ]
  },
  {
   "cell_type": "code",
   "execution_count": 3,
   "metadata": {},
   "outputs": [
    {
     "name": "stdout",
     "output_type": "stream",
     "text": [
      "X X X X X X X X X X \n",
      "X X X X X X X X X X \n",
      "X X X X X X X X X X \n",
      "X X X X X X X X X X \n",
      "X X X X X X X X X X \n",
      "X X X X X X X X X X \n",
      "X X X X X X X X X X \n",
      "X X X X X X X X X X \n",
      "X X X X X X X X X X \n",
      "X X X X X X X X X X \n",
      "\n"
     ]
    }
   ],
   "source": [
    "np.random.seed(2)\n",
    "\n",
    "\n",
    "class mine_field:\n",
    "    def __init__(self, x_dim, y_dim, mine_count):\n",
    "        # Store parameters:\n",
    "        self.x_dim = x_dim\n",
    "        self.y_dim = y_dim\n",
    "        self.mine_count = mine_count\n",
    "\n",
    "        # Generate matrix:\n",
    "        self.reset_matrix()\n",
    "\n",
    "    def reset_matrix(self):\n",
    "        # Generating mine positions and coordinates:\n",
    "        mine_positions = np.sort(\n",
    "            np.random.randint(0, self.x_dim * self.y_dim, size=self.mine_count)\n",
    "        )\n",
    "        self.mine_coordinates = np.array(\n",
    "            [(int(x / self.x_dim), x % self.x_dim) for x in mine_positions]\n",
    "        ).tolist()\n",
    "        logging.debug(self.mine_coordinates)\n",
    "\n",
    "        # Generate matrix with Nan-s:\n",
    "        self.matrix = np.full([self.y_dim, self.x_dim], np.nan)\n",
    "\n",
    "        # Initialize clicked fields:\n",
    "        self.clicked = []\n",
    "\n",
    "    def set_cell_value(self, click: Tuple[int], value) -> None:\n",
    "        self.matrix.itemset(click, value)\n",
    "\n",
    "    def get_mine_count(self, neighbour_indices: np.array) -> int:\n",
    "        mines_in_neighbours = 0\n",
    "        for neighbour in neighbour_indices.tolist():\n",
    "            if neighbour in self.mine_coordinates:\n",
    "                mines_in_neighbours += 1\n",
    "        return mines_in_neighbours\n",
    "\n",
    "    def get_matrix(self):\n",
    "        return self.matrix\n",
    "\n",
    "    def get_all_neighbours(self, click: Tuple[int]) -> List[Tuple[int]]:\n",
    "        (x_max, y_max) = self.matrix.shape\n",
    "\n",
    "        neighbours: list = []\n",
    "        for i in range(-1, 2):\n",
    "            for j in range(-1, 2):\n",
    "                # Let's skip the original coordinate:\n",
    "                if j == 0 and i == 0:\n",
    "                    continue\n",
    "\n",
    "                # Calculating new coordinates:\n",
    "                new_x = click[0] + i\n",
    "                new_y = click[1] + j\n",
    "\n",
    "                # Don't bother with negative coordaintes:\n",
    "                if new_x < 0 or new_y < 0:\n",
    "                    continue\n",
    "\n",
    "                # Don't bother with coordaintes extending beyond the limits:\n",
    "                if new_x >= x_max or new_y >= y_max:\n",
    "                    continue\n",
    "\n",
    "                neighbours.append([new_x, new_y])\n",
    "\n",
    "        return np.array(neighbours)\n",
    "\n",
    "    def plot_matrix_ascii(self):\n",
    "        plot = \"\"\n",
    "        for row in self.matrix:\n",
    "            for item in row:\n",
    "                if item == 9 or np.isnan(item):\n",
    "                    plot += \"X \"\n",
    "                else:\n",
    "                    plot += f\"{int(item)} \"\n",
    "            plot += \"\\n\"\n",
    "\n",
    "        print(plot)\n",
    "\n",
    "    def click_on(self, click) -> int:\n",
    "        logging.debug(f\"clicking on: {click}\")\n",
    "\n",
    "        # Test if we have already clicked:\n",
    "        if click in self.clicked:\n",
    "            logging.info(f\"The field: {click} is already clicked on.\")\n",
    "            return 2\n",
    "\n",
    "        # Are we clicking on a mine:\n",
    "        if list(click) in self.mine_coordinates:\n",
    "            print(\"Game over. You clicked on a mine! :(\")\n",
    "            return 1\n",
    "\n",
    "        # Adding click to list:\n",
    "        self.clicked.append(click)\n",
    "\n",
    "        # 1. Get all neighbours:\n",
    "        neighbours = self.get_all_neighbours(click)\n",
    "\n",
    "        # 1. Get number of mines around the cliced cell:\n",
    "        mine_count = self.get_mine_count(neighbours)\n",
    "\n",
    "        # 2. Update value of the matrix at index:\n",
    "        self.set_cell_value(click, mine_count)\n",
    "\n",
    "        # 3. Recursion: if the value is zero, click on all the neighbours:\n",
    "        if mine_count == 0:\n",
    "            for neighbour in neighbours:\n",
    "                if tuple(neighbour) not in self.clicked:\n",
    "                    self.click_on(tuple(neighbour))\n",
    "\n",
    "        # 4. Testing if the number of unclicked fields is the same as the number of mines:\n",
    "        if len(self.mine_coordinates) == (self.x_dim * self.y_dim) - len(self.clicked):\n",
    "            print(\"Game over. You won! :)\")\n",
    "            return -1\n",
    "\n",
    "        # If we didn't win with the last click, we just keep going:\n",
    "        return 0\n",
    "\n",
    "\n",
    "table = mine_field(10, 10, 10)\n",
    "table.plot_matrix_ascii()"
   ]
  },
  {
   "cell_type": "code",
   "execution_count": 4,
   "metadata": {},
   "outputs": [
    {
     "name": "stdout",
     "output_type": "stream",
     "text": [
      "X X X X X X X X 1 0 \n",
      "X X X X X X 2 1 1 0 \n",
      "X X X X X 2 1 0 0 0 \n",
      "X X X X X 1 0 0 1 1 \n",
      "X X X X 2 1 0 0 1 X \n",
      "X X X X 1 0 0 0 1 1 \n",
      "X X X X 1 1 1 0 0 0 \n",
      "X X X X X X 1 0 0 0 \n",
      "X X X 2 1 1 1 0 0 0 \n",
      "X X X 1 0 0 0 0 0 0 \n",
      "\n"
     ]
    }
   ],
   "source": [
    "table.click_on((7, 7))\n",
    "table.plot_matrix_ascii()"
   ]
  },
  {
   "cell_type": "code",
   "execution_count": 5,
   "metadata": {},
   "outputs": [
    {
     "name": "stdout",
     "output_type": "stream",
     "text": [
      "Game over. You clicked on a mine! :(\n",
      "X X X X X X X X 1 0 \n",
      "X X X X X X 2 1 1 0 \n",
      "X X X X X 2 1 0 0 0 \n",
      "X X X X X 1 0 0 1 1 \n",
      "X X X X 2 1 0 0 1 X \n",
      "X X X X 1 0 0 0 1 1 \n",
      "X X X X 1 1 1 0 0 0 \n",
      "X X X X X X 1 0 0 0 \n",
      "X X X 2 1 1 1 0 0 0 \n",
      "X X X 1 0 0 0 0 0 0 \n",
      "\n"
     ]
    }
   ],
   "source": [
    "table.click_on((7, 5))\n",
    "table.plot_matrix_ascii()"
   ]
  },
  {
   "cell_type": "code",
   "execution_count": null,
   "metadata": {},
   "outputs": [],
   "source": []
  }
 ],
 "metadata": {
  "kernelspec": {
   "display_name": "py-mine-O9MQ4UnY-py3.8",
   "language": "python",
   "name": "python3"
  },
  "language_info": {
   "codemirror_mode": {
    "name": "ipython",
    "version": 3
   },
   "file_extension": ".py",
   "mimetype": "text/x-python",
   "name": "python",
   "nbconvert_exporter": "python",
   "pygments_lexer": "ipython3",
   "version": "3.8.15"
  },
  "orig_nbformat": 4,
  "vscode": {
   "interpreter": {
    "hash": "4f51f255fc3d117450327ac0d04fd622387e90d8ccd731012f783fbc319a243b"
   }
  }
 },
 "nbformat": 4,
 "nbformat_minor": 2
}
